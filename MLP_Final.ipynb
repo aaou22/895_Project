{
 "cells": [
  {
   "cell_type": "markdown",
   "metadata": {},
   "source": [
    "This is an add-on script to the script entitled \"Project_Script_Final\" located in this same repository.  Comments here will be minimal, as I follow the same methodology outlined in that script, just with an alternative model approach here (using MLP Regressor instead of Random Forest)."
   ]
  },
  {
   "cell_type": "code",
   "execution_count": 18,
   "metadata": {},
   "outputs": [
    {
     "name": "stdout",
     "output_type": "stream",
     "text": [
      "3.6.0 | packaged by conda-forge | (default, Feb  9 2017, 14:54:13) [MSC v.1900 64 bit (AMD64)]\n"
     ]
    }
   ],
   "source": [
    "#import packages\n",
    "import numpy as np\n",
    "import pandas as pd\n",
    "import matplotlib.pyplot as plt\n",
    "import sys\n",
    "print(sys.version) #I am running Python 3.6"
   ]
  },
  {
   "cell_type": "code",
   "execution_count": 2,
   "metadata": {},
   "outputs": [
    {
     "data": {
      "text/html": [
       "<div>\n",
       "<style scoped>\n",
       "    .dataframe tbody tr th:only-of-type {\n",
       "        vertical-align: middle;\n",
       "    }\n",
       "\n",
       "    .dataframe tbody tr th {\n",
       "        vertical-align: top;\n",
       "    }\n",
       "\n",
       "    .dataframe thead th {\n",
       "        text-align: right;\n",
       "    }\n",
       "</style>\n",
       "<table border=\"1\" class=\"dataframe\">\n",
       "  <thead>\n",
       "    <tr style=\"text-align: right;\">\n",
       "      <th></th>\n",
       "      <th>Date</th>\n",
       "      <th>Date_Julian</th>\n",
       "      <th>DMP_NoWater</th>\n",
       "      <th>Surface_Irradiance</th>\n",
       "      <th>Below_Ice_Irradiance</th>\n",
       "      <th>Surface_Temp_C</th>\n",
       "      <th>Lat</th>\n",
       "      <th>Lon</th>\n",
       "      <th>Hrs_Above_Frz_Ice_Since_Jun1</th>\n",
       "      <th>Cum_Surface_Irradiance_SinceJun1</th>\n",
       "      <th>Cum_SubSurface_Irradiance_SinceJun1</th>\n",
       "      <th>Source</th>\n",
       "      <th>Split</th>\n",
       "    </tr>\n",
       "  </thead>\n",
       "  <tbody>\n",
       "    <tr>\n",
       "      <th>0</th>\n",
       "      <td>1-Jun</td>\n",
       "      <td>152</td>\n",
       "      <td>0.001</td>\n",
       "      <td>62300000.0</td>\n",
       "      <td>814000.0</td>\n",
       "      <td>1.689247</td>\n",
       "      <td>72.844081</td>\n",
       "      <td>-166.537644</td>\n",
       "      <td>0</td>\n",
       "      <td>2.070000e+09</td>\n",
       "      <td>84000000.0</td>\n",
       "      <td>Buoy7</td>\n",
       "      <td>Train</td>\n",
       "    </tr>\n",
       "    <tr>\n",
       "      <th>1</th>\n",
       "      <td>4-Jun</td>\n",
       "      <td>155</td>\n",
       "      <td>0.005</td>\n",
       "      <td>65000000.0</td>\n",
       "      <td>1840000.0</td>\n",
       "      <td>3.694515</td>\n",
       "      <td>73.037055</td>\n",
       "      <td>-166.767810</td>\n",
       "      <td>24</td>\n",
       "      <td>2.260000e+09</td>\n",
       "      <td>88300000.0</td>\n",
       "      <td>Buoy7</td>\n",
       "      <td>Test</td>\n",
       "    </tr>\n",
       "    <tr>\n",
       "      <th>2</th>\n",
       "      <td>5-Jun</td>\n",
       "      <td>156</td>\n",
       "      <td>0.013</td>\n",
       "      <td>64300000.0</td>\n",
       "      <td>1450000.0</td>\n",
       "      <td>4.947612</td>\n",
       "      <td>72.844835</td>\n",
       "      <td>-163.319440</td>\n",
       "      <td>60</td>\n",
       "      <td>2.460000e+09</td>\n",
       "      <td>45700000.0</td>\n",
       "      <td>Buoy8</td>\n",
       "      <td>Train</td>\n",
       "    </tr>\n",
       "    <tr>\n",
       "      <th>3</th>\n",
       "      <td>5-Jun</td>\n",
       "      <td>156</td>\n",
       "      <td>0.017</td>\n",
       "      <td>58700000.0</td>\n",
       "      <td>2520000.0</td>\n",
       "      <td>5.777930</td>\n",
       "      <td>73.055408</td>\n",
       "      <td>-166.908423</td>\n",
       "      <td>41</td>\n",
       "      <td>2.320000e+09</td>\n",
       "      <td>90800000.0</td>\n",
       "      <td>Buoy7</td>\n",
       "      <td>Train</td>\n",
       "    </tr>\n",
       "    <tr>\n",
       "      <th>4</th>\n",
       "      <td>10-Jun</td>\n",
       "      <td>161</td>\n",
       "      <td>0.020</td>\n",
       "      <td>133000000.0</td>\n",
       "      <td>349000.0</td>\n",
       "      <td>-1.576667</td>\n",
       "      <td>76.865833</td>\n",
       "      <td>-165.986000</td>\n",
       "      <td>0</td>\n",
       "      <td>6.020000e+09</td>\n",
       "      <td>4410000.0</td>\n",
       "      <td>SHEBA</td>\n",
       "      <td>Train</td>\n",
       "    </tr>\n",
       "  </tbody>\n",
       "</table>\n",
       "</div>"
      ],
      "text/plain": [
       "     Date  Date_Julian  DMP_NoWater  Surface_Irradiance  Below_Ice_Irradiance  \\\n",
       "0   1-Jun          152        0.001          62300000.0              814000.0   \n",
       "1   4-Jun          155        0.005          65000000.0             1840000.0   \n",
       "2   5-Jun          156        0.013          64300000.0             1450000.0   \n",
       "3   5-Jun          156        0.017          58700000.0             2520000.0   \n",
       "4  10-Jun          161        0.020         133000000.0              349000.0   \n",
       "\n",
       "   Surface_Temp_C        Lat         Lon  Hrs_Above_Frz_Ice_Since_Jun1  \\\n",
       "0        1.689247  72.844081 -166.537644                             0   \n",
       "1        3.694515  73.037055 -166.767810                            24   \n",
       "2        4.947612  72.844835 -163.319440                            60   \n",
       "3        5.777930  73.055408 -166.908423                            41   \n",
       "4       -1.576667  76.865833 -165.986000                             0   \n",
       "\n",
       "   Cum_Surface_Irradiance_SinceJun1  Cum_SubSurface_Irradiance_SinceJun1  \\\n",
       "0                      2.070000e+09                           84000000.0   \n",
       "1                      2.260000e+09                           88300000.0   \n",
       "2                      2.460000e+09                           45700000.0   \n",
       "3                      2.320000e+09                           90800000.0   \n",
       "4                      6.020000e+09                            4410000.0   \n",
       "\n",
       "  Source  Split  \n",
       "0  Buoy7  Train  \n",
       "1  Buoy7   Test  \n",
       "2  Buoy8  Train  \n",
       "3  Buoy7  Train  \n",
       "4  SHEBA  Train  "
      ]
     },
     "execution_count": 2,
     "metadata": {},
     "output_type": "execute_result"
    }
   ],
   "source": [
    "# import data\n",
    "data = pd.read_csv('C:/Users/Austin/Desktop/OEAS895_Clayton/Project/Data/model_input.csv') #read in data\n",
    "data.head()"
   ]
  },
  {
   "cell_type": "code",
   "execution_count": 3,
   "metadata": {},
   "outputs": [
    {
     "name": "stdout",
     "output_type": "stream",
     "text": [
      "(8, 4)\n",
      "(14, 4)\n",
      "(8,)\n",
      "(14,)\n"
     ]
    }
   ],
   "source": [
    "#define variables for machine learning\n",
    "test=data[~data.Split.str.contains(\"Train\")] #create test data\n",
    "train=data[~data.Split.str.contains(\"Test\")] #create train data\n",
    "\n",
    "x_train=train[['Hrs_Above_Frz_Ice_Since_Jun1','Lat','Lon','Cum_Surface_Irradiance_SinceJun1']] #slight increase in r^2 (0.02)\n",
    "x_test=test[['Hrs_Above_Frz_Ice_Since_Jun1','Lat','Lon','Cum_Surface_Irradiance_SinceJun1']]\n",
    "\n",
    "#set target variable\n",
    "y_train=train[['DMP_NoWater']]\n",
    "y_test=test[['DMP_NoWater']]\n",
    "y_train=np.ravel(y_train)\n",
    "y_test=np.ravel(y_test)\n",
    "y=data.DMP_NoWater\n",
    "\n",
    "print(np.shape(x_test))\n",
    "print(np.shape(x_train))\n",
    "print(np.shape(y_test))\n",
    "print(np.shape(y_train))"
   ]
  },
  {
   "cell_type": "code",
   "execution_count": 4,
   "metadata": {},
   "outputs": [
    {
     "name": "stderr",
     "output_type": "stream",
     "text": [
      "C:\\Users\\Austin\\Anaconda3\\lib\\site-packages\\sklearn\\preprocessing\\data.py:625: DataConversionWarning: Data with input dtype int64, float64 were all converted to float64 by StandardScaler.\n",
      "  return self.partial_fit(X, y)\n",
      "C:\\Users\\Austin\\Anaconda3\\lib\\site-packages\\ipykernel_launcher.py:5: DataConversionWarning: Data with input dtype int64, float64 were all converted to float64 by StandardScaler.\n",
      "  \"\"\"\n",
      "C:\\Users\\Austin\\Anaconda3\\lib\\site-packages\\ipykernel_launcher.py:6: DataConversionWarning: Data with input dtype int64, float64 were all converted to float64 by StandardScaler.\n",
      "  \n"
     ]
    }
   ],
   "source": [
    "from sklearn.preprocessing import StandardScaler\n",
    "scaler = StandardScaler()\n",
    "scaler.fit(x_train)\n",
    "\n",
    "x_train = scaler.transform(x_train)\n",
    "x_test = scaler.transform(x_test)"
   ]
  },
  {
   "cell_type": "code",
   "execution_count": 11,
   "metadata": {},
   "outputs": [
    {
     "name": "stdout",
     "output_type": "stream",
     "text": [
      "[10]\n",
      "-2.4936407528872784 0.029725587757804643\n",
      "[10, 10]\n",
      "-0.6795871619048648 0.014290741123518138\n",
      "[10, 10, 10]\n",
      "-0.7605168068034869 0.014979329742612362\n",
      "[20]\n",
      "-0.30272669495767746 0.01108422972894279\n",
      "[20, 20]\n",
      "0.5063991140039421 0.004199795425983615\n",
      "[20, 20, 20]\n",
      "0.6013695667203387 0.0033917408129594787\n",
      "[30]\n",
      "0.10319839052018165 0.007630422481733887\n",
      "[30, 30]\n",
      "0.5567716930583428 0.003771201124170794\n",
      "[30, 30, 30]\n",
      "0.16894536142818672 0.007071015407059546\n",
      "[40]\n",
      "0.8838559421676191 0.0009882099013159098\n",
      "[40, 40]\n",
      "0.7954603824312769 0.0017403221401519552\n",
      "[40, 40, 40]\n",
      "0.7419067059210219 0.002195982759963265\n",
      "[50]\n",
      "0.7112974483724246 0.0024564211495458556\n",
      "[50, 50]\n",
      "0.6790851823376747 0.0027304987117858694\n",
      "[50, 50, 50]\n",
      "0.7501519996459454 0.0021258278071374682\n",
      "[60]\n",
      "0.31596898293336606 0.0058200672207268135\n",
      "[60, 60]\n",
      "0.783971516021297 0.0018380749804877325\n",
      "[60, 60, 60]\n",
      "0.7810656752622543 0.001862799281182285\n",
      "[70]\n",
      "0.9023011138002034 0.0008312694466858726\n",
      "[70, 70]\n",
      "0.9294119757897955 0.0006005971010546467\n",
      "[70, 70, 70]\n",
      "0.846185541076954 0.0013087279203958166\n",
      "[80]\n",
      "0.8187647221554143 0.0015420375297394411\n",
      "[80, 80]\n",
      "0.7895616803783699 0.0017905111544018954\n",
      "[80, 80, 80]\n",
      "0.9326179074891489 0.0005733194812833811\n",
      "[90]\n",
      "0.7798646827489806 0.0018730179072159667\n",
      "[90, 90]\n",
      "0.7780171089455327 0.0018887379600542624\n",
      "[90, 90, 90]\n",
      "0.753543313569957 0.0020969728656042956\n",
      "[100]\n",
      "0.8031378882705011 0.0016749982016799453\n",
      "[100, 100]\n",
      "0.8603346841474959 0.0011883401576604706\n",
      "[100, 100, 100]\n",
      "0.8598470748730529 0.0011924889735531747\n",
      "[110]\n",
      "0.7699811744777513 0.001957111582911904\n",
      "[110, 110]\n",
      "0.919189255181498 0.0006875769596203367\n",
      "[110, 110, 110]\n",
      "0.6681184435828283 0.002823809037126186\n",
      "[120]\n",
      "0.7279040442833611 0.002315124187715714\n",
      "[120, 120]\n",
      "0.8458057351723954 0.0013119594930002855\n",
      "[120, 120, 120]\n",
      "0.8605321784426707 0.0011866597805358246\n",
      "[130]\n",
      "0.8905100144153678 0.0009315938315658184\n",
      "[130, 130]\n",
      "0.8119199398725105 0.0016002762528438046\n",
      "[130, 130, 130]\n",
      "0.6618983000773186 0.0028767330309530737\n",
      "[140]\n",
      "0.2911715953213032 0.006031055405764868\n",
      "[140, 140]\n",
      "0.6266573958755164 0.003176579713714979\n",
      "[140, 140, 140]\n",
      "0.777131093941572 0.0018962766048714775\n",
      "[150]\n",
      "0.3011900267904153 0.00594581373814792\n",
      "[150, 150]\n",
      "0.7708206017041187 0.0019499693294724079\n",
      "[150, 150, 150]\n",
      "0.8197757253019741 0.0015334354252638613\n"
     ]
    }
   ],
   "source": [
    "##Lets first re-explore the parameter space to decide on the best model architecture (hyperparameters)\n",
    "\n",
    "from sklearn.neural_network import MLPRegressor\n",
    "from sklearn import metrics\n",
    "\n",
    "#build a nested loop to loop through both various numbers of layers and nodes\n",
    "results = []\n",
    "layers = []\n",
    "scores_list=[]\n",
    "count_layer = 1\n",
    "for x in range(10,151,10):\n",
    "    while count_layer <4:\n",
    "        layers.append(x)\n",
    "        model = MLPRegressor(hidden_layer_sizes=layers, max_iter=1000, random_state=1)\n",
    "        model.fit(x_train, y_train)\n",
    "        y_pred = model.predict(x_test)\n",
    "        scores = metrics.r2_score(y_test,y_pred)\n",
    "        scores1 = metrics.mean_squared_error(y_test,y_pred)\n",
    "        print(layers)\n",
    "        print(scores, scores1)\n",
    "        scores_list.append(metrics.r2_score(y_test,y_pred))\n",
    "        count_layer=count_layer+1\n",
    "    count_layer = 1\n",
    "    layers=[]\n",
    "#printed results show nodes (integer value), layers (number of integers- separated by commas) on top, r^2 (left) and MSE (right) on bottom"
   ]
  },
  {
   "cell_type": "code",
   "execution_count": 15,
   "metadata": {},
   "outputs": [
    {
     "name": "stdout",
     "output_type": "stream",
     "text": [
      "0.9326179074891489\n",
      "0.0005733194812833811\n"
     ]
    }
   ],
   "source": [
    "#run classifier with high scoring model\n",
    "#lets try 3 layers with 80 nodes each, as this model architecture achieved an r^2 of 0.93 in our loop above\n",
    "from sklearn.neural_network import MLPRegressor\n",
    "from sklearn import metrics\n",
    "mlp = MLPRegressor(hidden_layer_sizes=(80,80,80), max_iter=1000, random_state=1)\n",
    "mlp.fit(x_train, y_train)\n",
    "y_pred = mlp.predict(x_test)\n",
    "# compute the R^2 and MSE\n",
    "print(metrics.r2_score(y_test,y_pred))\n",
    "print(metrics.mean_squared_error(y_test,y_pred))"
   ]
  },
  {
   "cell_type": "code",
   "execution_count": 16,
   "metadata": {},
   "outputs": [
    {
     "data": {
      "image/png": "[encoded data removed]",
      "text/plain": [
       "<Figure size 432x288 with 1 Axes>"
      ]
     },
     "metadata": {},
     "output_type": "display_data"
    }
   ],
   "source": [
    "plt.scatter(y_test,y_pred)\n",
    "b = np.linspace(0,0.4,8)\n",
    "a = b\n",
    "plt.plot(a,b,'--', color='k')\n",
    "plt.xlabel('Actual Values')\n",
    "plt.ylabel('Modelled Values')\n",
    "plt.show()"
   ]
  },
  {
   "cell_type": "code",
   "execution_count": 17,
   "metadata": {},
   "outputs": [
    {
     "data": {
      "image/png": "[encoded data removed]",
      "text/plain": [
       "<Figure size 432x288 with 1 Axes>"
      ]
     },
     "metadata": {},
     "output_type": "display_data"
    }
   ],
   "source": [
    "plt.scatter(test.Date_Julian,y_test)\n",
    "plt.scatter(test.Date_Julian,y_pred)\n",
    "plt.legend(['Actual','Predicted'], loc='upper left')\n",
    "plt.xlabel('Julian Date')\n",
    "plt.ylabel('Pond Fraction')\n",
    "plt.show()"
   ]
  },
  {
   "cell_type": "markdown",
   "metadata": {},
   "source": [
    "Overall good results!  Note the random state has been set to 1 here, as I was playing around with hyperparameters and wanted to keep the random state set.  Removing the random state will change the model accuracy, though most scores should still be >0.7.  The MLP regressor in general seems to perform better than the random forest when we manually choose our training and testing data.  However, the MLP regressor performs horribly in the leave one out method.  Choosing the appropriate model depends on the size of the data set, and the user's desired outcome.  If truly random machine learning is desired, especially if a larger data set of this nature becomes available, the Random Forest is a better approach.  With a small dataset such as this one, where we must tell the computer which values are train and test, the MLP Regressor seems to be the right choice.  Email me at aabbo005@odu.edu for further questions regarding these scripts."
   ]
  }
 ],
 "metadata": {
  "kernelspec": {
   "display_name": "Python 3",
   "language": "python",
   "name": "python3"
  },
  "language_info": {
   "codemirror_mode": {
    "name": "ipython",
    "version": 3
   },
   "file_extension": ".py",
   "mimetype": "text/x-python",
   "name": "python",
   "nbconvert_exporter": "python",
   "pygments_lexer": "ipython3",
   "version": "3.6.0"
  }
 },
 "nbformat": 4,
 "nbformat_minor": 2
}
