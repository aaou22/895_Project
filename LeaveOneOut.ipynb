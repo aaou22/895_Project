{
 "cells": [
  {
   "cell_type": "code",
   "execution_count": 1,
   "metadata": {
    "collapsed": true
   },
   "outputs": [],
   "source": [
    "import numpy as np \n",
    "import pandas as pd \n",
    "from sklearn.model_selection import train_test_split, cross_val_score, LeaveOneOut  \n",
    "from sklearn import metrics\n",
    "from sklearn.ensemble import RandomForestRegressor\n",
    "import matplotlib.pyplot as plt"
   ]
  },
  {
   "cell_type": "code",
   "execution_count": 2,
   "metadata": {
    "collapsed": true
   },
   "outputs": [],
   "source": [
    "data = pd.read_csv('C:/Users/Austin/Desktop/OEAS895_Clayton/Project/Data/model_input.csv') #read in data\n",
    "Xr = data[['Hrs_Above_Frz_Ice_Since_Jun1','Lat','Lon','Cum_Surface_Irradiance_SinceJun1']]\n",
    "yr = data['DMP_NoWater']"
   ]
  },
  {
   "cell_type": "code",
   "execution_count": 3,
   "metadata": {},
   "outputs": [
    {
     "name": "stderr",
     "output_type": "stream",
     "text": [
      "C:\\Users\\Austin\\Anaconda3\\lib\\site-packages\\sklearn\\preprocessing\\data.py:625: DataConversionWarning: Data with input dtype int64, float64 were all converted to float64 by StandardScaler.\n",
      "  return self.partial_fit(X, y)\n",
      "C:\\Users\\Austin\\Anaconda3\\lib\\site-packages\\ipykernel_launcher.py:5: DataConversionWarning: Data with input dtype int64, float64 were all converted to float64 by StandardScaler.\n",
      "  \"\"\"\n"
     ]
    }
   ],
   "source": [
    "from sklearn.preprocessing import StandardScaler\n",
    "scaler = StandardScaler()\n",
    "scaler.fit(Xr)\n",
    "\n",
    "Xr = scaler.transform(Xr)\n",
    "#x_train = scaler.transform(x_train)\n",
    "#x_test = scaler.transform(x_test)"
   ]
  },
  {
   "cell_type": "code",
   "execution_count": 4,
   "metadata": {
    "collapsed": true
   },
   "outputs": [],
   "source": [
    "X_array = np.array(Xr) #r stands for 'regression'\n",
    "y_array = np.array(yr)"
   ]
  },
  {
   "cell_type": "code",
   "execution_count": 5,
   "metadata": {},
   "outputs": [
    {
     "name": "stdout",
     "output_type": "stream",
     "text": [
      "Leave One Out Cross Validation\n",
      "R^2: 55.56422%, MSE: 0.00576\n"
     ]
    }
   ],
   "source": [
    "loo = LeaveOneOut()\n",
    "ytests = []\n",
    "ypreds = []\n",
    "for train_idx, test_idx in loo.split(Xr):\n",
    "    X_train, X_test = X_array[train_idx], X_array[test_idx] #requires arrays\n",
    "    y_train, y_test = y_array[train_idx], y_array[test_idx]\n",
    "    \n",
    "    model = RandomForestRegressor(max_depth=3, n_estimators=100)\n",
    "    #model = MLPRegressor(hidden_layer_sizes=(100,100,100), max_iter=2000)\n",
    "    model.fit(X = X_train, y = y_train) \n",
    "    y_pred = model.predict(X_test)\n",
    "        \n",
    "    # there is only one y-test and y-pred per iteration over the loo.split, \n",
    "    # so to get a proper graph, we append them to respective lists.\n",
    "        \n",
    "    ytests += list(y_test)\n",
    "    ypreds += list(y_pred)\n",
    "        \n",
    "rr = metrics.r2_score(ytests, ypreds)\n",
    "ms_error = metrics.mean_squared_error(ytests, ypreds)\n",
    "        \n",
    "print(\"Leave One Out Cross Validation\")\n",
    "print(\"R^2: {:.5f}%, MSE: {:.5f}\".format(rr*100, ms_error))"
   ]
  },
  {
   "cell_type": "markdown",
   "metadata": {},
   "source": [
    "plt.scatter(ytests, ypreds)\n",
    "plt.show()"
   ]
  },
  {
   "cell_type": "markdown",
   "metadata": {},
   "source": [
    "loocv = LeaveOneOut()\n",
    "model = RandomForestRegressor(max_depth=7)\n",
    "for train_index, val_index in loocv.split(X):\n",
    "    cv_train_x = X.iloc[train_index]\n",
    "    cv_val_x = X.iloc[val_index]\n",
    "    cv_train_y = y.iloc[train_index]\n",
    "    cv_val_y = y.iloc[val_index]\n",
    "    #print(cv_train_x)\n",
    "    logreg = RandomForestRegressor(max_depth=7)\n",
    "    logreg.fit(cv_train_x, cv_train_y)\n",
    "    print(logreg.score(cv_val_x, cv_val_y))"
   ]
  }
 ],
 "metadata": {
  "kernelspec": {
   "display_name": "Python 3",
   "language": "python",
   "name": "python3"
  },
  "language_info": {
   "codemirror_mode": {
    "name": "ipython",
    "version": 3
   },
   "file_extension": ".py",
   "mimetype": "text/x-python",
   "name": "python",
   "nbconvert_exporter": "python",
   "pygments_lexer": "ipython3",
   "version": "3.6.0"
  }
 },
 "nbformat": 4,
 "nbformat_minor": 2
}
