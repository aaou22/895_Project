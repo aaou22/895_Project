{
 "cells": [
  {
   "cell_type": "markdown",
   "metadata": {},
   "source": [
    "This script explores the applications of Machine Learning for predicting Melt Pond Fraction on an Arctic Ice Pack through the summer.  Data are gathered from Worldview Sattellites with co-located WARM Buoys (BORG, Old Dominion University) (2018),  and SHEBA Ice Camp (1998).  2018 data was located several degrees south of SHEBA.  This data will thus test the models ability to predict Pond Fraction in different geographic locations."
   ]
  },
  {
   "cell_type": "code",
   "execution_count": 95,
   "metadata": {},
   "outputs": [
    {
     "name": "stdout",
     "output_type": "stream",
     "text": [
      "3.6.0 | packaged by conda-forge | (default, Feb  9 2017, 14:54:13) [MSC v.1900 64 bit (AMD64)]\n"
     ]
    }
   ],
   "source": [
    "#import packages for data processing and visualization\n",
    "import pandas as pd\n",
    "import numpy as np\n",
    "import matplotlib.pyplot as plt\n",
    "import math\n",
    "import sys\n",
    "print(sys.version) #I am running Python 3.6"
   ]
  },
  {
   "cell_type": "code",
   "execution_count": 9,
   "metadata": {},
   "outputs": [
    {
     "data": {
      "text/html": [
       "<div>\n",
       "<style scoped>\n",
       "    .dataframe tbody tr th:only-of-type {\n",
       "        vertical-align: middle;\n",
       "    }\n",
       "\n",
       "    .dataframe tbody tr th {\n",
       "        vertical-align: top;\n",
       "    }\n",
       "\n",
       "    .dataframe thead th {\n",
       "        text-align: right;\n",
       "    }\n",
       "</style>\n",
       "<table border=\"1\" class=\"dataframe\">\n",
       "  <thead>\n",
       "    <tr style=\"text-align: right;\">\n",
       "      <th></th>\n",
       "      <th>Date</th>\n",
       "      <th>Date_Julian</th>\n",
       "      <th>DMP_NoWater</th>\n",
       "      <th>Surface_Irradiance</th>\n",
       "      <th>Below_Ice_Irradiance</th>\n",
       "      <th>Surface_Temp_C</th>\n",
       "      <th>Lat</th>\n",
       "      <th>Lon</th>\n",
       "      <th>Hrs_Above_Frz_Ice_Since_Jun1</th>\n",
       "      <th>Cum_Surface_Irradiance_SinceJun1</th>\n",
       "      <th>Cum_SubSurface_Irradiance_SinceJun1</th>\n",
       "      <th>Source</th>\n",
       "      <th>Split</th>\n",
       "    </tr>\n",
       "  </thead>\n",
       "  <tbody>\n",
       "    <tr>\n",
       "      <th>0</th>\n",
       "      <td>1-Jun</td>\n",
       "      <td>152</td>\n",
       "      <td>0.001</td>\n",
       "      <td>62300000.0</td>\n",
       "      <td>814000.0</td>\n",
       "      <td>1.689247</td>\n",
       "      <td>72.844081</td>\n",
       "      <td>-166.537644</td>\n",
       "      <td>0</td>\n",
       "      <td>2.070000e+09</td>\n",
       "      <td>84000000.0</td>\n",
       "      <td>Buoy7</td>\n",
       "      <td>Train</td>\n",
       "    </tr>\n",
       "    <tr>\n",
       "      <th>1</th>\n",
       "      <td>4-Jun</td>\n",
       "      <td>155</td>\n",
       "      <td>0.005</td>\n",
       "      <td>65000000.0</td>\n",
       "      <td>1840000.0</td>\n",
       "      <td>3.694515</td>\n",
       "      <td>73.037055</td>\n",
       "      <td>-166.767810</td>\n",
       "      <td>24</td>\n",
       "      <td>2.260000e+09</td>\n",
       "      <td>88300000.0</td>\n",
       "      <td>Buoy7</td>\n",
       "      <td>Test</td>\n",
       "    </tr>\n",
       "    <tr>\n",
       "      <th>2</th>\n",
       "      <td>5-Jun</td>\n",
       "      <td>156</td>\n",
       "      <td>0.013</td>\n",
       "      <td>64300000.0</td>\n",
       "      <td>1450000.0</td>\n",
       "      <td>4.947612</td>\n",
       "      <td>72.844835</td>\n",
       "      <td>-163.319440</td>\n",
       "      <td>60</td>\n",
       "      <td>2.460000e+09</td>\n",
       "      <td>45700000.0</td>\n",
       "      <td>Buoy8</td>\n",
       "      <td>Train</td>\n",
       "    </tr>\n",
       "    <tr>\n",
       "      <th>3</th>\n",
       "      <td>5-Jun</td>\n",
       "      <td>156</td>\n",
       "      <td>0.017</td>\n",
       "      <td>58700000.0</td>\n",
       "      <td>2520000.0</td>\n",
       "      <td>5.777930</td>\n",
       "      <td>73.055408</td>\n",
       "      <td>-166.908423</td>\n",
       "      <td>41</td>\n",
       "      <td>2.320000e+09</td>\n",
       "      <td>90800000.0</td>\n",
       "      <td>Buoy7</td>\n",
       "      <td>Train</td>\n",
       "    </tr>\n",
       "    <tr>\n",
       "      <th>4</th>\n",
       "      <td>10-Jun</td>\n",
       "      <td>161</td>\n",
       "      <td>0.020</td>\n",
       "      <td>133000000.0</td>\n",
       "      <td>349000.0</td>\n",
       "      <td>-1.576667</td>\n",
       "      <td>76.865833</td>\n",
       "      <td>-165.986000</td>\n",
       "      <td>0</td>\n",
       "      <td>6.020000e+09</td>\n",
       "      <td>4410000.0</td>\n",
       "      <td>SHEBA</td>\n",
       "      <td>Train</td>\n",
       "    </tr>\n",
       "  </tbody>\n",
       "</table>\n",
       "</div>"
      ],
      "text/plain": [
       "     Date  Date_Julian  DMP_NoWater  Surface_Irradiance  Below_Ice_Irradiance  \\\n",
       "0   1-Jun          152        0.001          62300000.0              814000.0   \n",
       "1   4-Jun          155        0.005          65000000.0             1840000.0   \n",
       "2   5-Jun          156        0.013          64300000.0             1450000.0   \n",
       "3   5-Jun          156        0.017          58700000.0             2520000.0   \n",
       "4  10-Jun          161        0.020         133000000.0              349000.0   \n",
       "\n",
       "   Surface_Temp_C        Lat         Lon  Hrs_Above_Frz_Ice_Since_Jun1  \\\n",
       "0        1.689247  72.844081 -166.537644                             0   \n",
       "1        3.694515  73.037055 -166.767810                            24   \n",
       "2        4.947612  72.844835 -163.319440                            60   \n",
       "3        5.777930  73.055408 -166.908423                            41   \n",
       "4       -1.576667  76.865833 -165.986000                             0   \n",
       "\n",
       "   Cum_Surface_Irradiance_SinceJun1  Cum_SubSurface_Irradiance_SinceJun1  \\\n",
       "0                      2.070000e+09                           84000000.0   \n",
       "1                      2.260000e+09                           88300000.0   \n",
       "2                      2.460000e+09                           45700000.0   \n",
       "3                      2.320000e+09                           90800000.0   \n",
       "4                      6.020000e+09                            4410000.0   \n",
       "\n",
       "  Source  Split  \n",
       "0  Buoy7  Train  \n",
       "1  Buoy7   Test  \n",
       "2  Buoy8  Train  \n",
       "3  Buoy7  Train  \n",
       "4  SHEBA  Train  "
      ]
     },
     "execution_count": 9,
     "metadata": {},
     "output_type": "execute_result"
    }
   ],
   "source": [
    "#read in model input data\n",
    "data = pd.read_csv('C:/Users/Austin/Desktop/OEAS895_Clayton/Project/Data/model_input.csv')\n",
    "data.head() #visualize data"
   ]
  },
  {
   "cell_type": "markdown",
   "metadata": {},
   "source": [
    "Data to be used for machine learning shown above.  Descriptors of each variable can be found in the readme file."
   ]
  },
  {
   "cell_type": "code",
   "execution_count": 67,
   "metadata": {},
   "outputs": [
    {
     "name": "stdout",
     "output_type": "stream",
     "text": [
      "r^2 date: 0.6248558783721685\n",
      "r^2 temp: 0.6667194738772458\n",
      "r^2 surface PaR: 0.15345406908788636\n",
      "r^2 sub-surface PaR: 0.3175965139903579\n",
      "r^2 Lat: 0.038725710130489276\n",
      "r^2 Lon: 0.0629383593519047\n"
     ]
    }
   ],
   "source": [
    "#calculate r^2 values for relationships between Melt Pond Fraction and Environmental Variables\n",
    "correlation_matrix = np.corrcoef(data.Date_Julian, data.DMP_NoWater) #calc correlation coefficient\n",
    "correlation_xy = correlation_matrix[0,1] #grab the r value\n",
    "r_squared = correlation_xy**2 #square r\n",
    "print(\"r^2 date:\",r_squared) #print results\n",
    "correlation_matrix = np.corrcoef(data.Hrs_Above_Frz_Ice_Since_Jun1, data.DMP_NoWater) #repeat for each environmental (predictor) variable\n",
    "correlation_xy = correlation_matrix[0,1]\n",
    "r_squared = correlation_xy**2\n",
    "print(\"r^2 temp:\",r_squared)\n",
    "correlation_matrix = np.corrcoef(data.Cum_Surface_Irradiance_SinceJun1, data.DMP_NoWater)\n",
    "correlation_xy = correlation_matrix[0,1]\n",
    "r_squared = correlation_xy**2\n",
    "print(\"r^2 surface PaR:\",r_squared)\n",
    "correlation_matrix = np.corrcoef(data.Cum_SubSurface_Irradiance_SinceJun1, data.DMP_NoWater)\n",
    "correlation_xy = correlation_matrix[0,1]\n",
    "r_squared = correlation_xy**2\n",
    "print(\"r^2 sub-surface PaR:\",r_squared)\n",
    "correlation_matrix = np.corrcoef(data.Lat, data.DMP_NoWater)\n",
    "correlation_xy = correlation_matrix[0,1]\n",
    "r_squared = correlation_xy**2\n",
    "print(\"r^2 Lat:\",r_squared)\n",
    "correlation_matrix = np.corrcoef(data.Lon, data.DMP_NoWater)\n",
    "correlation_xy = correlation_matrix[0,1]\n",
    "r_squared = correlation_xy**2\n",
    "print(\"r^2 Lon:\",r_squared)"
   ]
  },
  {
   "cell_type": "markdown",
   "metadata": {},
   "source": [
    "Above r^2 values show fair predictability with Date and Temp (cumulative hours above freezing at ice surface since June 1st).  Surface/Sub-Surface PAR (Irradiance, cumulative since June 1st) and Lat/Lon are poor predictors of Pond Fraction.  "
   ]
  },
  {
   "cell_type": "code",
   "execution_count": 76,
   "metadata": {},
   "outputs": [],
   "source": [
    "#create new variables separating data by site for visualization\n",
    "#this line of code drops any data tagged \"SHEBA\"\n",
    "buoy=data[~data.Source.str.contains(\"SHEBA\")] #buoy data (further south)\n",
    "#this line of code drops any data tagged \"Buoy\"\n",
    "sheba=data[~data.Source.str.contains(\"Buoy\")] #sheba data (further north)"
   ]
  },
  {
   "cell_type": "code",
   "execution_count": 80,
   "metadata": {},
   "outputs": [
    {
     "data": {
      "image/png": "[encoded data removed]",
      "text/plain": [
       "<Figure size 432x288 with 1 Axes>"
      ]
     },
     "metadata": {},
     "output_type": "display_data"
    }
   ],
   "source": [
    "#Pond Fraction measurement locations\n",
    "plt.scatter(buoy.Lon,buoy.Lat)\n",
    "plt.scatter(sheba.Lon,sheba.Lat)\n",
    "plt.legend(['Buoys','SHEBA'])\n",
    "plt.xlabel('Lat')\n",
    "plt.ylabel('Lon')\n",
    "plt.show()\n",
    "#note that SHEBA data is further north than Buoy data"
   ]
  },
  {
   "cell_type": "code",
   "execution_count": 75,
   "metadata": {},
   "outputs": [
    {
     "data": {
      "image/png": "[encoded data removed]",
      "text/plain": [
       "<Figure size 432x288 with 4 Axes>"
      ]
     },
     "metadata": {},
     "output_type": "display_data"
    }
   ],
   "source": [
    "#perform multiple linear regressions to examine relationships\n",
    "fig, axs = plt.subplots(2, 2, sharey=True, sharex=False)\n",
    "axs[0, 0].scatter(buoy.Date_Julian, buoy.DMP_NoWater)\n",
    "axs[0, 0].scatter(sheba.Date_Julian, sheba.DMP_NoWater)\n",
    "axs[0, 0].legend(['Buoys','SHEBA'])\n",
    "axs[0, 0].set_xlabel('Julian Date')\n",
    "axs[0, 0].set_ylabel('Pond Fraction')\n",
    "axs[0, 1].scatter(buoy.Hrs_Above_Frz_Ice_Since_Jun1, buoy.DMP_NoWater)\n",
    "axs[0, 1].scatter(sheba.Hrs_Above_Frz_Ice_Since_Jun1, sheba.DMP_NoWater)\n",
    "axs[0, 1].set_xlabel('Hrs Above Frz on Ice Surface Since Jun 1', fontsize=9)\n",
    "axs[1, 0].scatter(buoy.Cum_Surface_Irradiance_SinceJun1, buoy.DMP_NoWater)\n",
    "axs[1, 0].scatter(sheba.Cum_Surface_Irradiance_SinceJun1, sheba.DMP_NoWater)\n",
    "axs[1, 0].set_xlabel('Cum. Surface PAR Since Jun1', fontsize=9)\n",
    "axs[1, 0].xaxis.set_label_coords(0.4,-0.25)\n",
    "axs[1, 0].set_ylabel('Pond Fraction')\n",
    "axs[1, 1].scatter(buoy.Cum_SubSurface_Irradiance_SinceJun1, buoy.DMP_NoWater)\n",
    "axs[1, 1].scatter(sheba.Cum_SubSurface_Irradiance_SinceJun1, sheba.DMP_NoWater)\n",
    "axs[1, 1].set_xlabel('Cum. Below-Ice PAR Since Jun1', fontsize=9)\n",
    "axs[1, 1].xaxis.set_label_coords(0.4,-0.25)\n",
    "plt.tight_layout()\n",
    "plt.show()"
   ]
  },
  {
   "cell_type": "markdown",
   "metadata": {},
   "source": [
    "Note lower pond fraction values for SHEBA data points, as it is located further north.  Additionally, SHEBA data sees much more light at the surface (see bottom left, product of day length and less ice melt thus less cloud cover).  This indicates temperature is likely the primary driver of melt pond formation, which agrees with the previously calculated r^2 values."
   ]
  },
  {
   "cell_type": "markdown",
   "metadata": {},
   "source": [
    "First we will try a Random Forest machine learning model using the Leave One Out (LOO) sampling method. The algorithm uses n-1 (where n is total number of data points) data points to train the model, and then predicts the final data point.  This process is looped through, so that every data point is predicted."
   ]
  },
  {
   "cell_type": "code",
   "execution_count": 81,
   "metadata": {
    "collapsed": true
   },
   "outputs": [],
   "source": [
    "#first we will define our target(y) and our predictor(x) variables\n",
    "#I have chosen the 4 predictor variables below as they have given me the best results, but feel free to try other combinations\n",
    "x = data[['Hrs_Above_Frz_Ice_Since_Jun1','Lat','Lon','Cum_Surface_Irradiance_SinceJun1']]\n",
    "y = data['DMP_NoWater']\n",
    "#from here foward we will be using ALL data (buoy and sheba)"
   ]
  },
  {
   "cell_type": "code",
   "execution_count": 82,
   "metadata": {
    "collapsed": true
   },
   "outputs": [],
   "source": [
    "#next we need to set aside some portion of data for validation(testing) later on\n",
    "#we do this by performing a train/test split\n",
    "#note that the \"train\" data will eventually be split again, and that the \"test\" data is for independent validation\n",
    "from sklearn.model_selection import train_test_split\n",
    "#test size sets % for testing --> 0.2 = 20% test, 80% train\n",
    "X_train,X_test,Y_train,Y_test = train_test_split(x,y,test_size=0.2, random_state=4)"
   ]
  },
  {
   "cell_type": "code",
   "execution_count": 83,
   "metadata": {},
   "outputs": [
    {
     "name": "stderr",
     "output_type": "stream",
     "text": [
      "C:\\Users\\Austin\\Anaconda3\\lib\\site-packages\\sklearn\\preprocessing\\data.py:625: DataConversionWarning: Data with input dtype int64, float64 were all converted to float64 by StandardScaler.\n",
      "  return self.partial_fit(X, y)\n",
      "C:\\Users\\Austin\\Anaconda3\\lib\\site-packages\\ipykernel_launcher.py:6: DataConversionWarning: Data with input dtype int64, float64 were all converted to float64 by StandardScaler.\n",
      "  \n",
      "C:\\Users\\Austin\\Anaconda3\\lib\\site-packages\\ipykernel_launcher.py:7: DataConversionWarning: Data with input dtype int64, float64 were all converted to float64 by StandardScaler.\n",
      "  import sys\n"
     ]
    }
   ],
   "source": [
    "#next we scale our predictor variables, since they are presented in varying orders of magnitude\n",
    "from sklearn.preprocessing import StandardScaler\n",
    "scaler = StandardScaler()\n",
    "scaler.fit(X_train)\n",
    "\n",
    "X_train = scaler.transform(X_train)\n",
    "X_test = scaler.transform(X_test)"
   ]
  },
  {
   "cell_type": "code",
   "execution_count": 84,
   "metadata": {
    "collapsed": true
   },
   "outputs": [],
   "source": [
    "#now we convert our training data to numpy arrays, as they seem to pass through the machine learning loop better\n",
    "X_array = np.array(X_train) \n",
    "y_array = np.array(Y_train)"
   ]
  },
  {
   "cell_type": "code",
   "execution_count": 91,
   "metadata": {},
   "outputs": [
    {
     "name": "stdout",
     "output_type": "stream",
     "text": [
      "max depth: 1  n_estimators: 100  r_squared: 0.26063561554295567  RMSE: 0.09846132638272753\n",
      "max depth: 2  n_estimators: 100  r_squared: 0.3204124830296269  RMSE: 0.09439720056224188\n",
      "max depth: 3  n_estimators: 100  r_squared: 0.3564377631082385  RMSE: 0.0918611112676584\n",
      "max depth: 4  n_estimators: 100  r_squared: 0.37328779891731856  RMSE: 0.09065056045851734\n",
      "max depth: 5  n_estimators: 100  r_squared: 0.3828886146830842  RMSE: 0.08995352736616195\n",
      "max depth: 6  n_estimators: 100  r_squared: 0.389411654945536  RMSE: 0.08947684736442763\n",
      "max depth: 7  n_estimators: 100  r_squared: 0.39406509825649616  RMSE: 0.08913523275405663\n",
      "max depth: 8  n_estimators: 100  r_squared: 0.3975551807397164  RMSE: 0.08887816011823112\n",
      "max depth: 9  n_estimators: 100  r_squared: 0.4002696893377764  RMSE: 0.08867769950731813\n",
      "max depth: 10  n_estimators: 100  r_squared: 0.4024412962162247  RMSE: 0.08851700415760148\n",
      "max depth: 11  n_estimators: 100  r_squared: 0.4042180654804095  RMSE: 0.08838530883248169\n",
      "max depth: 12  n_estimators: 100  r_squared: 0.40569870653389695  RMSE: 0.08827541264546304\n",
      "max depth: 13  n_estimators: 100  r_squared: 0.4069515566560784  RMSE: 0.08818231659199366\n",
      "max depth: 14  n_estimators: 100  r_squared: 0.4080254281893769  RMSE: 0.08810244167812922\n",
      "max depth: 15  n_estimators: 100  r_squared: 0.4089561168515692  RMSE: 0.08803315813042671\n"
     ]
    }
   ],
   "source": [
    "#import machine learning packages\n",
    "from sklearn.model_selection import LeaveOneOut  \n",
    "from sklearn import metrics\n",
    "from sklearn.ensemble import RandomForestRegressor\n",
    "#define LeaveOneOut and create empty lists to hold results\n",
    "loo = LeaveOneOut()\n",
    "ytests = []\n",
    "ypreds = []\n",
    "rrs = []\n",
    "mses = []\n",
    "#this is a nested loop to loop through all combinations of LOO, n_estimators (n_range), and max_depth (d_range)\n",
    "d_range = np.arange(1,16,1)\n",
    "n_range = np.arange(100, 101, 1)\n",
    "for d in d_range:\n",
    "    for n in n_range:\n",
    "        for train_idx, test_idx in loo.split(X_train):\n",
    "            x_tr, x_te = X_array[train_idx], X_array[test_idx] #assign train and test data from our arrays\n",
    "            y_tr, y_te = y_array[train_idx], y_array[test_idx]\n",
    "            model = RandomForestRegressor(max_depth=d, n_estimators=n, random_state=4) #define model\n",
    "            model.fit(X = x_tr, y = y_tr) #fit model\n",
    "            y_pred = model.predict(x_te) #predict one data point left out \n",
    "        \n",
    "            # there is only one y-test and y-pred per iteration over the loo.split, \n",
    "            # so to get a proper graph, we append them to respective lists.\n",
    "        \n",
    "            ytests += list(y_te)\n",
    "            ypreds += list(y_pred)\n",
    "        #calculate and print performance metrics for each complete LOO run for a given d and n\n",
    "        rr = metrics.r2_score(ytests, ypreds)\n",
    "        ms_error = metrics.mean_squared_error(ytests, ypreds)\n",
    "        rmse = math.sqrt(ms_error) #calculate rmse\n",
    "        print(\"max depth:\",d,\" n_estimators:\",n,\" r_squared:\",rr,\" RMSE:\",rmse)"
   ]
  },
  {
   "cell_type": "markdown",
   "metadata": {},
   "source": [
    "Not great results for training our model (explained further below).  We can see that increasing our max depth improves our predictability, but the r^2 plateaus around 0.4.  I have also fixed the numer of estimators here to 100 (default), as I found that increasing the max depth was the primary driver in raising r^2.  You can easily play with this by changing n_range if you want to see how n_estimators changes the results.  Let's move forward with a max_depth of 10, as this seems to be around where the model begins to reach peak performance."
   ]
  },
  {
   "cell_type": "code",
   "execution_count": 92,
   "metadata": {},
   "outputs": [
    {
     "name": "stdout",
     "output_type": "stream",
     "text": [
      "0.9127188742999031\n",
      "0.08803315813042671\n"
     ]
    }
   ],
   "source": [
    "#less than ideal r squared values from training the model, but lets test it on our validation data and see what happens\n",
    "rf = RandomForestRegressor(max_depth=10, n_estimators=100) #define model (I have not set the random state here, in an effort to allow the model to behave truly random)\n",
    "rf.fit(X_train,Y_train) #fit model\n",
    "rf_pred = rf.predict(X_test) #predict values\n",
    "r = metrics.r2_score(Y_test,rf_pred) #calculate r^2 for predicted and actual Pond Fraction values\n",
    "mse = metrics.mean_squared_error(Y_test,rf_pred)\n",
    "rmse = math.sqrt(ms_error) #calculate rmse\n",
    "print(r)\n",
    "print(rmse)"
   ]
  },
  {
   "cell_type": "code",
   "execution_count": 93,
   "metadata": {},
   "outputs": [
    {
     "data": {
      "image/png": "[encoded data removed]",
      "text/plain": [
       "<Figure size 432x288 with 1 Axes>"
      ]
     },
     "metadata": {},
     "output_type": "display_data"
    }
   ],
   "source": [
    "#and lets visualize these results\n",
    "plt.scatter(Y_test,rf_pred)\n",
    "plt.xlabel('Actual')\n",
    "plt.ylabel('Predicted')\n",
    "plt.title('Melt Pond Fraction')\n",
    "#this section just creates a 1:1 line\n",
    "b = np.linspace(0,0.4,8)\n",
    "a = b\n",
    "plt.plot(a,b,'--', color='k')\n",
    "\n",
    "plt.show()"
   ]
  },
  {
   "cell_type": "markdown",
   "metadata": {},
   "source": [
    "Great results from our validation data! Despite low r^2 values from training, we get a high r^2 for our tested data. However, this is a product of the random state.  I had set the random state for the original train/test split and the random forest model to 4, because I had played around and figured out that it gave good results. In reality, you can  alter the random states to see that this high degree of predictability on the validation data is the exception, not the norm.  This all comes back to the small size of this data set (n=22). Setting aside 20% of our data for validation means we are training our model on 17 data points, and validating it on 5 data points.  Melt pond fraction clearly changes drastically as the summer progresses, and due to the temporal sparseness of this data set, leaving out certain points can result in large gaps in our training and test data. In fact, in the figure above you can see these reults don't include any points above ~0.25, meaning we have no idea how well this model predicts the higher values in our data. With a larger dataset, I believe the model built above would perform well, but for this small data set, lets explore some other options for predicting pond fraction.  (Note if you run this script that the final r^2 may change, as I did not set a random state when running our validation data- see comments)."
   ]
  },
  {
   "cell_type": "markdown",
   "metadata": {},
   "source": [
    "Let's try manually assigning values to our training and testing datasets.  I've included this already in the .csv file 'Split' column (see data head at beginning of script).  I tried to be un-biased, with my only goal being to ensure that both training and testing data included values from the entire summer, representing the whole range of pond fraction values from both buoy and SHEBA data.  Feel free to play around with the string values in 'Split' and see how they impact the results below. (I have split the data into 14 train points and 8 test points, which is approximately a 65/35 split.  Again, this was in an effort to ensure that both testing and training data contained points spanning the entire summer from both platforms)."
   ]
  },
  {
   "cell_type": "code",
   "execution_count": 96,
   "metadata": {
    "collapsed": true
   },
   "outputs": [],
   "source": [
    "#split our dataset into testing and training data based on the strings in the 'Split' column of 'data'\n",
    "test=data[~data.Split.str.contains(\"Train\")] #drops train data\n",
    "train=data[~data.Split.str.contains(\"Test\")] #drops test data"
   ]
  },
  {
   "cell_type": "code",
   "execution_count": 105,
   "metadata": {
    "collapsed": true
   },
   "outputs": [],
   "source": [
    "#define our predictor variables (same as before)\n",
    "x_train=train[['Hrs_Above_Frz_Ice_Since_Jun1','Lat','Lon','Cum_Surface_Irradiance_SinceJun1']] \n",
    "x_test=test[['Hrs_Above_Frz_Ice_Since_Jun1','Lat','Lon','Cum_Surface_Irradiance_SinceJun1']]\n",
    "#define our target variables\n",
    "y_train=train[['DMP_NoWater']]\n",
    "y_test=test[['DMP_NoWater']]\n",
    "y_train=np.ravel(y_train) #change array to vector- was getting errors before I did this\n",
    "y_test=np.ravel(y_test)"
   ]
  },
  {
   "cell_type": "code",
   "execution_count": 98,
   "metadata": {},
   "outputs": [
    {
     "name": "stderr",
     "output_type": "stream",
     "text": [
      "C:\\Users\\Austin\\Anaconda3\\lib\\site-packages\\sklearn\\preprocessing\\data.py:625: DataConversionWarning: Data with input dtype int64, float64 were all converted to float64 by StandardScaler.\n",
      "  return self.partial_fit(X, y)\n",
      "C:\\Users\\Austin\\Anaconda3\\lib\\site-packages\\ipykernel_launcher.py:5: DataConversionWarning: Data with input dtype int64, float64 were all converted to float64 by StandardScaler.\n",
      "  \"\"\"\n",
      "C:\\Users\\Austin\\Anaconda3\\lib\\site-packages\\ipykernel_launcher.py:6: DataConversionWarning: Data with input dtype int64, float64 were all converted to float64 by StandardScaler.\n",
      "  \n"
     ]
    }
   ],
   "source": [
    "#scale our data\n",
    "scaler = StandardScaler()\n",
    "scaler.fit(x_train)\n",
    "\n",
    "x_train = scaler.transform(x_train)\n",
    "x_test = scaler.transform(x_test)"
   ]
  },
  {
   "cell_type": "code",
   "execution_count": 101,
   "metadata": {},
   "outputs": [
    {
     "name": "stdout",
     "output_type": "stream",
     "text": [
      "R Squared: 0.713431406518861  RMSE: 0.04937878491822169\n"
     ]
    },
    {
     "name": "stderr",
     "output_type": "stream",
     "text": [
      "C:\\Users\\Austin\\Anaconda3\\lib\\site-packages\\ipykernel_launcher.py:3: DataConversionWarning: A column-vector y was passed when a 1d array was expected. Please change the shape of y to (n_samples,), for example using ravel().\n",
      "  This is separate from the ipykernel package so we can avoid doing imports until\n"
     ]
    }
   ],
   "source": [
    "#try the same random forest model as before (no random state)\n",
    "regr = RandomForestRegressor(max_depth=10, n_estimators=100)\n",
    "regr.fit(x_train, y_train)\n",
    "y_pred = regr.predict(x_test)\n",
    "r = metrics.r2_score(y_test,y_pred)\n",
    "mse = metrics.mean_squared_error(y_test,y_pred)\n",
    "rmse = math.sqrt(mse)\n",
    "print(\"R Squared:\",r,\" RMSE:\",rmse)"
   ]
  },
  {
   "cell_type": "code",
   "execution_count": 102,
   "metadata": {},
   "outputs": [
    {
     "data": {
      "image/png": "[encoded data removed]",
      "text/plain": [
       "<Figure size 432x288 with 1 Axes>"
      ]
     },
     "metadata": {},
     "output_type": "display_data"
    }
   ],
   "source": [
    "#and visualize these results\n",
    "plt.scatter(y_test,y_pred)\n",
    "b = np.linspace(0,0.4,8)\n",
    "a = b\n",
    "plt.plot(a,b,'--', color='k')\n",
    "plt.xlabel('Actual Values')\n",
    "plt.ylabel('Modelled Values')\n",
    "plt.show()"
   ]
  },
  {
   "cell_type": "code",
   "execution_count": 103,
   "metadata": {},
   "outputs": [
    {
     "data": {
      "image/png": "[encoded data removed]",
      "text/plain": [
       "<Figure size 432x288 with 1 Axes>"
      ]
     },
     "metadata": {},
     "output_type": "display_data"
    }
   ],
   "source": [
    "#lets also show the results as a function of time\n",
    "plt.scatter(test.Date_Julian,y_test)\n",
    "plt.scatter(test.Date_Julian,y_pred)\n",
    "plt.legend(['Actual','Predicted'], loc='upper left')\n",
    "plt.xlabel('Julian Date')\n",
    "plt.ylabel('Pond Fraction')\n",
    "plt.show()"
   ]
  },
  {
   "cell_type": "markdown",
   "metadata": {},
   "source": [
    "Not bad- we have a lower r^2 than with the LeaveOneOut method, but this model should consistently give us decent results without being dependent on the random state.  The residuals about the 1:1 line appear normally distributed.  To see how these results compare to a different model (MLP Regressor instead of Random Forest), check out the MLP_Final script located in this same repository.  "
   ]
  }
 ],
 "metadata": {
  "kernelspec": {
   "display_name": "Python 3",
   "language": "python",
   "name": "python3"
  },
  "language_info": {
   "codemirror_mode": {
    "name": "ipython",
    "version": 3
   },
   "file_extension": ".py",
   "mimetype": "text/x-python",
   "name": "python",
   "nbconvert_exporter": "python",
   "pygments_lexer": "ipython3",
   "version": "3.6.0"
  }
 },
 "nbformat": 4,
 "nbformat_minor": 2
}
